{
 "cells": [
  {
   "cell_type": "code",
   "execution_count": 10,
   "id": "b18914b9",
   "metadata": {},
   "outputs": [],
   "source": [
    "import random"
   ]
  },
  {
   "cell_type": "code",
   "execution_count": null,
   "id": "6104f1a9",
   "metadata": {},
   "outputs": [
    {
     "name": "stdout",
     "output_type": "stream",
     "text": [
      "Type Rock/Paper/Scissors or Q to quit: rock\n",
      "Computer picked rock.\n",
      "You lost!\n",
      "Type Rock/Paper/Scissors or Q to quit: paper\n",
      "Computer picked paper.\n",
      "You lost!\n",
      "Type Rock/Paper/Scissors or Q to quit: Rock\n",
      "Computer picked scissors.\n",
      "You won!\n",
      "Type Rock/Paper/Scissors or Q to quit: Scissors\n",
      "Computer picked scissors.\n",
      "You lost!\n"
     ]
    }
   ],
   "source": [
    "user_wins = 0\n",
    "computer_wins = 0\n",
    "\n",
    "options = [\"rock\", \"paper\", \"scissors\"]\n",
    "\n",
    "while True:\n",
    "    user_input = input(\"Type Rock/Paper/Scissors or Q to quit: \").lower()\n",
    "    if user_input == \"q\":\n",
    "        break\n",
    "\n",
    "    if user_input not in options:\n",
    "        continue\n",
    "\n",
    "    random_number = random.randint(0, 2)\n",
    "    # rock: 0, paper: 1, scissors: 2\n",
    "    computer_pick = options[random_number]\n",
    "    print(\"Computer picked\", computer_pick + \".\")\n",
    "\n",
    "    if user_input == \"rock\" and computer_pick == \"scissors\":\n",
    "        print(\"You won!\")\n",
    "        user_wins += 1\n",
    "\n",
    "    elif user_input == \"paper\" and computer_pick == \"rock\":\n",
    "        print(\"You won!\")\n",
    "        user_wins += 1\n",
    "\n",
    "    elif user_input == \"scissors\" and computer_pick == \"paper\":\n",
    "        print(\"You won!\")\n",
    "        user_wins += 1\n",
    "\n",
    "    else:\n",
    "        print(\"You lost!\")\n",
    "        computer_wins += 1\n",
    "\n",
    "print(\"You won\", user_wins, \"times.\")\n",
    "print(\"The computer won\", computer_wins, \"times.\")\n",
    "print(\"Goodbye!\")"
   ]
  },
  {
   "cell_type": "code",
   "execution_count": 7,
   "id": "0df8204f",
   "metadata": {},
   "outputs": [
    {
     "ename": "ModuleNotFoundError",
     "evalue": "No module named 'flask'",
     "output_type": "error",
     "traceback": [
      "\u001b[1;31m---------------------------------------------------------------------------\u001b[0m",
      "\u001b[1;31mModuleNotFoundError\u001b[0m                       Traceback (most recent call last)",
      "Cell \u001b[1;32mIn [7], line 1\u001b[0m\n\u001b[1;32m----> 1\u001b[0m \u001b[38;5;28;01mimport\u001b[39;00m \u001b[38;5;21;01mflask\u001b[39;00m\n",
      "\u001b[1;31mModuleNotFoundError\u001b[0m: No module named 'flask'"
     ]
    }
   ],
   "source": []
  },
  {
   "cell_type": "code",
   "execution_count": null,
   "id": "c38abd5c",
   "metadata": {},
   "outputs": [],
   "source": []
  }
 ],
 "metadata": {
  "kernelspec": {
   "display_name": "Python 3 (ipykernel)",
   "language": "python",
   "name": "python3"
  },
  "language_info": {
   "codemirror_mode": {
    "name": "ipython",
    "version": 3
   },
   "file_extension": ".py",
   "mimetype": "text/x-python",
   "name": "python",
   "nbconvert_exporter": "python",
   "pygments_lexer": "ipython3",
   "version": "3.10.5"
  }
 },
 "nbformat": 4,
 "nbformat_minor": 5
}
